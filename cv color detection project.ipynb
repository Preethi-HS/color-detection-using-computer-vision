{
 "cells": [
  {
   "cell_type": "code",
   "execution_count": 1,
   "id": "11f41756",
   "metadata": {},
   "outputs": [],
   "source": [
    "import numpy as np\n",
    "import cv2\n",
    "\n",
    "webcam = cv2.VideoCapture(0)\n",
    "\n",
    "while True:\n",
    "    _, imageFrame = webcam.read()\n",
    "\n",
    "    hsvFrame = cv2.cvtColor(imageFrame, cv2.COLOR_BGR2HSV)\n",
    "\n",
    "    # Define ranges for colors\n",
    "    colors = {\n",
    "        \"Red\": ([136, 87, 111], [180, 255, 255], (0, 0, 255)),\n",
    "        \"Green\": ([25, 52, 72], [102, 255, 255], (0, 255, 0)),\n",
    "        \"Blue\": ([94, 80, 2], [120, 255, 255], (255, 0, 0)),\n",
    "        \"Yellow\": ([20, 100, 100], [30, 255, 255], (0, 255, 255)),\n",
    "        \"Purple\": ([125, 50, 40], [155, 255, 255], (128, 0, 128)),\n",
    "        \"Black\": ([0, 0, 0], [180, 255, 30], (0, 0, 0)),\n",
    "        \"Pink\": ([150, 50, 50], [180, 255, 255], (255, 192, 203)),\n",
    "        \"Orange\": ([5, 100, 100], [15, 255, 255], (255, 165, 0)),\n",
    "    }\n",
    "\n",
    "    for color_name, (lower, upper, rectangle_color) in colors.items():\n",
    "        color_lower = np.array(lower, np.uint8)\n",
    "        color_upper = np.array(upper, np.uint8)\n",
    "\n",
    "        # Create mask and apply dilation\n",
    "        color_mask = cv2.inRange(hsvFrame, color_lower, color_upper)\n",
    "        kernel = np.ones((5, 5), \"uint8\")\n",
    "        color_mask = cv2.dilate(color_mask, kernel)\n",
    "\n",
    "        # Find contours only if the image is not None\n",
    "        if color_mask is not None:\n",
    "            contours, hierarchy = cv2.findContours(color_mask, cv2.RETR_TREE, cv2.CHAIN_APPROX_SIMPLE)\n",
    "\n",
    "            for contour in contours:\n",
    "                area = cv2.contourArea(contour)\n",
    "                if area > 300:\n",
    "                    x, y, w, h = cv2.boundingRect(contour)\n",
    "                    imageFrame = cv2.rectangle(imageFrame, (x, y), (x + w, y + h), rectangle_color, 2)\n",
    "                    cv2.putText(imageFrame, f\"{color_name} Colour\", (x, y), cv2.FONT_HERSHEY_SIMPLEX, 1.0, rectangle_color)\n",
    "\n",
    "    cv2.imshow(\"Multiple Color Detection in Real-Time\", imageFrame)\n",
    "    if cv2.waitKey(10) & 0xFF == ord('q'):\n",
    "        webcam.release()\n",
    "        cv2.destroyAllWindows()\n",
    "        break\n"
   ]
  },
  {
   "cell_type": "code",
   "execution_count": null,
   "id": "c60c55d1",
   "metadata": {},
   "outputs": [],
   "source": []
  },
  {
   "cell_type": "code",
   "execution_count": null,
   "id": "0e86fc64",
   "metadata": {},
   "outputs": [],
   "source": []
  }
 ],
 "metadata": {
  "kernelspec": {
   "display_name": "Python 3 (ipykernel)",
   "language": "python",
   "name": "python3"
  },
  "language_info": {
   "codemirror_mode": {
    "name": "ipython",
    "version": 3
   },
   "file_extension": ".py",
   "mimetype": "text/x-python",
   "name": "python",
   "nbconvert_exporter": "python",
   "pygments_lexer": "ipython3",
   "version": "3.11.2"
  }
 },
 "nbformat": 4,
 "nbformat_minor": 5
}
